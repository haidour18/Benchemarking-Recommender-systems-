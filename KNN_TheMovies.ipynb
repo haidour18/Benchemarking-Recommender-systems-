{
  "nbformat": 4,
  "nbformat_minor": 0,
  "metadata": {
    "colab": {
      "name": "KNN_TheMovies.ipynb",
      "private_outputs": true,
      "provenance": [],
      "authorship_tag": "ABX9TyMK0vTu6THa8yQFIxuA+b46",
      "include_colab_link": true
    },
    "kernelspec": {
      "name": "python3",
      "display_name": "Python 3"
    }
  },
  "cells": [
    {
      "cell_type": "markdown",
      "metadata": {
        "id": "view-in-github",
        "colab_type": "text"
      },
      "source": [
        "<a href=\"https://colab.research.google.com/github/haidour18/Benchemarking-Recommender-systems-/blob/main/KNN_TheMovies.ipynb\" target=\"_parent\"><img src=\"https://colab.research.google.com/assets/colab-badge.svg\" alt=\"Open In Colab\"/></a>"
      ]
    },
    {
      "cell_type": "code",
      "metadata": {
        "id": "lqdXfuMmI8FN"
      },
      "source": [
        "!pip install kaggle\r\n",
        "!pip install numpy\r\n",
        "!pip install sklearn\r\n",
        "!pip install scipy\r\n",
        "!pip install surprise"
      ],
      "execution_count": null,
      "outputs": []
    },
    {
      "cell_type": "code",
      "metadata": {
        "id": "VDU4Kb1QH13a"
      },
      "source": [
        "from google.colab import files \r\n",
        "files.upload()\r\n",
        "\r\n",
        "!mkdir -p ~/.kaggle\r\n",
        "!cp kaggle.json ~/.kaggle/\r\n",
        "#change permissions \r\n",
        "!chmod 600 ~/.kaggle/kaggle.json\r\n"
      ],
      "execution_count": null,
      "outputs": []
    },
    {
      "cell_type": "code",
      "metadata": {
        "id": "B1jlUHh1H7Ez"
      },
      "source": [
        "!kaggle datasets download -d rounakbanik/the-movies-dataset"
      ],
      "execution_count": null,
      "outputs": []
    },
    {
      "cell_type": "code",
      "metadata": {
        "id": "BhYIf6NnH7c_"
      },
      "source": [
        "# Dézippier le .zip obtenu\r\n",
        "from zipfile import ZipFile\r\n",
        "file_name = 'the-movies-dataset.zip'\r\n",
        "with ZipFile (file_name ,'r') as zip : \r\n",
        "  zip.extractall()\r\n",
        "  print('Done')"
      ],
      "execution_count": null,
      "outputs": []
    },
    {
      "cell_type": "code",
      "metadata": {
        "id": "sgt37oOdIDRy"
      },
      "source": [
        "# Importing the libraries\r\n",
        "import numpy as np\r\n",
        "import matplotlib.pyplot as plt\r\n",
        "import pandas as pd\r\n",
        "import os, glob , csv\r\n",
        "import pandas as pd\r\n",
        "import surprise as sp \r\n",
        "from surprise.model_selection import train_test_split\r\n",
        "from sklearn.preprocessing import LabelEncoder, OneHotEncoder\r\n",
        "import seaborn as sns\r\n",
        "from zipfile import ZipFile as zip\r\n",
        "from surprise import KNNBasic,accuracy\r\n",
        "from sklearn.neighbors import KNeighborsClassifier\r\n",
        "from sklearn.cluster import KMeans\r\n",
        "from apyori import apriori\r\n",
        "from IPython.display import display\r\n",
        "from sklearn.metrics import mean_squared_error as mse\r\n",
        "from sklearn.metrics import mean_absolute_error as mae\r\n",
        "from sklearn.metrics.pairwise import cosine_similarity as cos\r\n",
        "from sklearn.metrics import confusion_matrix \r\n",
        "from sklearn.metrics import precision_score\r\n",
        "import warnings; warnings.simplefilter('ignore')\r\n",
        "from surprise import accuracy\r\n",
        "import matplotlib.pyplot as plt"
      ],
      "execution_count": null,
      "outputs": []
    },
    {
      "cell_type": "code",
      "metadata": {
        "id": "3HT-UnHuI4gC"
      },
      "source": [
        "ratings_df = pd.read_csv('ratings_small.csv')\r\n",
        "movies_df = pd.read_csv('movies_metadata.csv')"
      ],
      "execution_count": null,
      "outputs": []
    },
    {
      "cell_type": "code",
      "metadata": {
        "id": "jp-J58ylJR3k"
      },
      "source": [
        "movies_df.drop(movies_df.index[19730],inplace=True)\r\n",
        "movies_df.drop(movies_df.index[29502],inplace=True)\r\n",
        "movies_df.drop(movies_df.index[35585],inplace=True)"
      ],
      "execution_count": null,
      "outputs": []
    },
    {
      "cell_type": "code",
      "metadata": {
        "id": "cFFRCRZNJXgP"
      },
      "source": [
        "movies_df.id = movies_df.id.astype(np.int64)"
      ],
      "execution_count": null,
      "outputs": []
    },
    {
      "cell_type": "code",
      "metadata": {
        "id": "a3GXkyiWJYrx"
      },
      "source": [
        "movies_df.id "
      ],
      "execution_count": null,
      "outputs": []
    },
    {
      "cell_type": "code",
      "metadata": {
        "id": "TS8CWsU0JfOw"
      },
      "source": [
        "ratings_df = pd.merge(ratings_df,movies_df[['title','id']],left_on='movieId',right_on='id')"
      ],
      "execution_count": null,
      "outputs": []
    },
    {
      "cell_type": "code",
      "metadata": {
        "id": "7Lvjbp9kJi1v"
      },
      "source": [
        "ratings_df.drop(['timestamp','id'],axis=1,inplace=True)"
      ],
      "execution_count": null,
      "outputs": []
    },
    {
      "cell_type": "code",
      "metadata": {
        "id": "RIunKJdiKArP"
      },
      "source": [
        "ratings=ratings_df[['userId','movieId','rating']]\r\n",
        "reader = sp.Reader(rating_scale=(1,5)) \r\n",
        "result_dataset1 = sp.Dataset.load_from_df(ratings, reader)\r\n",
        "train1,test1 = train_test_split(result_dataset1,test_size=0.2)"
      ],
      "execution_count": null,
      "outputs": []
    },
    {
      "cell_type": "code",
      "metadata": {
        "id": "FwftCgImKCNN"
      },
      "source": [
        "pearson_user_RMSE =  []\r\n",
        "pearson_user_MAE = []\r\n",
        "def KNN1():\r\n",
        "  i==1\r\n",
        "  \r\n",
        "for i in range (1,52,2) :\r\n",
        "  user_model1 = sp.KNNBasic(i,sim_options={'name': 'pearson','user_based': True})\r\n",
        "  user_model1.fit(train1)\r\n",
        "  preds = user_model1.test(test1)\r\n",
        "  RMSE1 = accuracy.rmse(preds,verbose=True)\r\n",
        "  MAE1= accuracy.mae(preds,verbose=True) \r\n",
        "  #MSE= accuracy.mse(preds,verbose=True)\r\n",
        "  pearson_user_RMSE.insert(i,RMSE1)\r\n",
        "  pearson_user_MAE.insert(i,MAE1)"
      ],
      "execution_count": null,
      "outputs": []
    },
    {
      "cell_type": "code",
      "metadata": {
        "id": "AMWF-xX4KfmK"
      },
      "source": [
        "fig, ax = plt.subplots() # Create a figure containing a single axes.\r\n",
        "ax.plot(np.arange(len(pearson_user_RMSE)), pearson_user_RMSE , label =\"RMSE\" , color =\"blue\")  # Plot some data on the axes.\r\n",
        "ax.plot(np.arange(len(pearson_user_MAE)),pearson_user_MAE, label = \"MAE\" , color =\"black\")\r\n",
        "plt.grid(color='#95a5a6', linestyle='--', linewidth=2, axis='y', alpha=0.7)\r\n",
        "plt.xlabel('K')\r\n",
        "plt.title(\"Les valeurs du RMSE et du MAE pour la mesure de pearson(user)\")\r\n",
        "plt.legend()\r\n",
        "plt.savefig(\"pearson_user_ax.png\", dpi=150, bbox_inches='tight')\r\n",
        "plt.show()\r\n"
      ],
      "execution_count": null,
      "outputs": []
    },
    {
      "cell_type": "code",
      "metadata": {
        "id": "Jt1AMGXcLZcf"
      },
      "source": [
        "width =0.3\r\n",
        "bar1=plt.bar(np.arange(len(pearson_user_RMSE)), pearson_user_RMSE, width=width , color =\"blue\" , label =\"RMSE\")\r\n",
        "bar2=plt.bar(np.arange(len(pearson_user_MAE))+ width, pearson_user_MAE, width=width ,color =\"black\" , label =\"MAE\")\r\n",
        "#plt.bar(range(len(k)),MSE, color='red', alpha=0.7)\r\n",
        "  #axis_2.pie(info_event_events.tolist(), labels=events['event'].unique(),autopct='%1.1f%%',shadow=True, startangle=90)\r\n",
        "plt.grid(color='#95a5a6', linestyle='--', linewidth=2, axis='y', alpha=0.7)\r\n",
        "plt.xlabel('K')\r\n",
        "#plt.ylabel('RMSE ')\r\n",
        "plt.title(\"Les valeurs du RMSE et MAE pour la mesure de pearson(user)\")\r\n",
        "plt.legend()\r\n",
        "plt.savefig(\"pearson_user_bar.png\" , dpi=150, bbox_inches='tight')\r\n",
        "plt.show()"
      ],
      "execution_count": null,
      "outputs": []
    },
    {
      "cell_type": "code",
      "metadata": {
        "id": "ybTpEHdkKldq"
      },
      "source": [
        "cosine_user_RMSE =  []\r\n",
        "cosine_user_MAE = []\r\n",
        "\r\n",
        "def KNN2():\r\n",
        " i==1\r\n",
        "  \r\n",
        "for i in range (1,51,2) :\r\n",
        "    user_model2 = sp.KNNBasic(i,sim_options={'name': 'cosine','user_based': True})\r\n",
        "    user_model2.fit(train1)\r\n",
        "    preds = user_model2.test(test1)\r\n",
        "    RMSE2=accuracy.rmse(preds,verbose=True)\r\n",
        "    MAE2=accuracy.mae(preds,verbose=True)\r\n",
        "    cosine_user_RMSE.insert(i,RMSE2)\r\n",
        "    cosine_user_MAE.insert(i,MAE2)"
      ],
      "execution_count": null,
      "outputs": []
    },
    {
      "cell_type": "code",
      "metadata": {
        "id": "Rzebsme6KqCU"
      },
      "source": [
        "fig, ax = plt.subplots() # Create a figure containing a single axes.\r\n",
        "ax.plot(np.arange(len(cosine_user_RMSE)), cosine_user_RMSE , label =\"RMSE\" , color =\"orange\")  # Plot some data on the axes.\r\n",
        "ax.plot(np.arange(len(cosine_user_MAE)),cosine_user_MAE, label = \"MAE\" , color =\"black\")\r\n",
        "plt.grid(color='#95a5a6', linestyle='--', linewidth=2, axis='y', alpha=0.7)\r\n",
        "plt.xlabel('K')\r\n",
        "plt.title(\"Les valeurs du RMSE et du MAE pour la mesure de cosine(user)\")\r\n",
        "plt.legend()\r\n",
        "plt.savefig(\"cosine_user_ax.png\", dpi=150, bbox_inches='tight')\r\n",
        "plt.show()"
      ],
      "execution_count": null,
      "outputs": []
    },
    {
      "cell_type": "code",
      "metadata": {
        "id": "ZTZrqO8WLgr8"
      },
      "source": [
        "width =0.3\r\n",
        "bar3=plt.bar(np.arange(len(cosine_user_RMSE)), cosine_user_RMSE, width=width , color =\"orange\" , label =\"RMSE\")\r\n",
        "bar4=plt.bar(np.arange(len(cosine_user_MAE))+ width, cosine_user_MAE, width=width ,color =\"black\" , label =\"MAE\")\r\n",
        "#plt.bar(range(len(k)),MSE, color='red', alpha=0.7)\r\n",
        "  #axis_2.pie(info_event_events.tolist(), labels=events['event'].unique(),autopct='%1.1f%%',shadow=True, startangle=90)\r\n",
        "plt.grid(color='#95a5a6', linestyle='--', linewidth=2, axis='y', alpha=0.7)\r\n",
        "plt.xlabel('K')\r\n",
        "#plt.ylabel('RMSE ')\r\n",
        "plt.title(\"Les valeurs du RMSE et MAE pour la mesure de cosine(user)\")\r\n",
        "plt.legend()\r\n",
        "plt.savefig(\"cosine_user_bar.png\", dpi=150, bbox_inches='tight')\r\n",
        "plt.show()\r\n"
      ],
      "execution_count": null,
      "outputs": []
    },
    {
      "cell_type": "code",
      "metadata": {
        "id": "X3dbl0QPK2cH"
      },
      "source": [
        "pearson_item_RMSE =  []\r\n",
        "pearson_item_MAE = []\r\n",
        "\r\n",
        "def KNN3():\r\n",
        " i==1\r\n",
        "  \r\n",
        "for i in range (1, 52, 2) :\r\n",
        "\r\n",
        "  item_model3 = sp.KNNBasic(i,sim_options={'name': 'pearson','user_based': False})\r\n",
        "  item_model3.fit(train1)\r\n",
        "  preds = item_model3.test(test1)\r\n",
        "  RMSE3=accuracy.rmse(preds,verbose=True)\r\n",
        "  MAE3=accuracy.mae(preds,verbose=True)\r\n",
        "  #accuracy.mse(preds,verbose=True)\r\n",
        "  pearson_item_RMSE.insert(i,RMSE3)\r\n",
        "  pearson_item_MAE.insert(i,MAE3)"
      ],
      "execution_count": null,
      "outputs": []
    },
    {
      "cell_type": "code",
      "metadata": {
        "id": "oWgTrR-bLQlp"
      },
      "source": [
        "fig, ax = plt.subplots() # Create a figure containing a single axes.\r\n",
        "ax.plot(np.arange(len(pearson_item_RMSE)), pearson_item_RMSE , label =\"RMSE\" , color =\"red\")  # Plot some data on the axes.\r\n",
        "ax.plot(np.arange(len(pearson_item_MAE)),pearson_item_MAE, label = \"MAE\", color =\"black\")\r\n",
        "plt.grid(color='#95a5a6', linestyle='--', linewidth=2, axis='y', alpha=0.7)\r\n",
        "plt.xlabel('K')\r\n",
        "plt.title(\"Les valeurs du RMSE et du MAE pour la mesure de pearson(item)\")\r\n",
        "plt.legend()\r\n",
        "plt.savefig(\"pearson_item_ax.png\", dpi=150, bbox_inches='tight')\r\n",
        "plt.show()"
      ],
      "execution_count": null,
      "outputs": []
    },
    {
      "cell_type": "code",
      "metadata": {
        "id": "S2NF9AcKLlRw"
      },
      "source": [
        "width =0.3\r\n",
        "bar5=plt.bar(np.arange(len( pearson_item_RMSE)),  pearson_item_RMSE, width=width , color =\"red\" , label =\"RMSE\")\r\n",
        "bar6=plt.bar(np.arange(len( pearson_item_MAE))+ width,  pearson_item_MAE, width=width ,color =\"black\" , label =\"MAE\")\r\n",
        "#plt.bar(range(len(k)),MSE, color='red', alpha=0.7)\r\n",
        "  #axis_2.pie(info_event_events.tolist(), labels=events['event'].unique(),autopct='%1.1f%%',shadow=True, startangle=90)\r\n",
        "plt.grid(color='#95a5a6', linestyle='--', linewidth=2, axis='y', alpha=0.7)\r\n",
        "plt.xlabel('K')\r\n",
        "#plt.ylabel('RMSE ')\r\n",
        "plt.title(\"Les valeurs du RMSE et MAE pour la mesure de pearson(item)\")\r\n",
        "plt.legend()\r\n",
        "plt.savefig(\"pearson_item_bar.png\", dpi=150, bbox_inches='tight')\r\n",
        "plt.show()\r\n"
      ],
      "execution_count": null,
      "outputs": []
    },
    {
      "cell_type": "code",
      "metadata": {
        "id": "OVl17MpNLoRc"
      },
      "source": [
        "cosine_item_RMSE =  []\r\n",
        "cosine_item_MAE = []\r\n",
        "\r\n",
        "def KNN4():\r\n",
        " i==1\r\n",
        "  \r\n",
        "for i in range (1, 52 , 2) :\r\n",
        "  item_model4 = sp.KNNBasic(i,sim_options={'name': 'cosine','user_based': False})\r\n",
        "  item_model4.fit(train1)\r\n",
        "  preds = item_model4.test(test1)\r\n",
        "  RMSE4=accuracy.rmse(preds,verbose=True)\r\n",
        "  MAE4=accuracy.mae(preds,verbose=True)\r\n",
        "  #accuracy.mse(preds,verbose=True)\r\n",
        "  cosine_item_RMSE.insert(i,RMSE4)\r\n",
        "  cosine_item_MAE.insert(i,MAE4)"
      ],
      "execution_count": null,
      "outputs": []
    },
    {
      "cell_type": "code",
      "metadata": {
        "id": "ZAulXyE9L-yT"
      },
      "source": [
        "fig, ax = plt.subplots() # Create a figure containing a single axes.\r\n",
        "ax.plot(np.arange(len(cosine_item_RMSE)), cosine_item_RMSE , label =\"RMSE\" , color =\"green\")  # Plot some data on the axes.\r\n",
        "ax.plot(np.arange(len(cosine_item_MAE)),cosine_item_MAE, label = \"MAE\" , color =\"black\")\r\n",
        "plt.grid(color='#95a5a6', linestyle='--', linewidth=2, axis='y', alpha=0.7)\r\n",
        "plt.xlabel('K')\r\n",
        "plt.title(\"Les valeurs du RMSE et du MAE pour la mesure de cosine(item)\")\r\n",
        "plt.legend()\r\n",
        "plt.savefig(\"cosine_item_ax.png\", dpi=150, bbox_inches='tight')\r\n",
        "\r\n",
        "plt.show()"
      ],
      "execution_count": null,
      "outputs": []
    },
    {
      "cell_type": "code",
      "metadata": {
        "id": "l86-4dbFMCPA"
      },
      "source": [
        "width =0.3\r\n",
        "bar7=plt.bar(np.arange(len( cosine_item_RMSE)),  cosine_item_RMSE, width=width , color =\"green\" , label =\"RMSE\")\r\n",
        "bar8=plt.bar(np.arange(len( cosine_item_MAE))+ width,  cosine_item_MAE, width=width ,color =\"black\" , label =\"MAE\")\r\n",
        "#plt.bar(range(len(k)),MSE, color='red', alpha=0.7)\r\n",
        "  #axis_2.pie(info_event_events.tolist(), labels=events['event'].unique(),autopct='%1.1f%%',shadow=True, startangle=90)\r\n",
        "plt.grid(color='#95a5a6', linestyle='--', linewidth=2, axis='y', alpha=0.7)\r\n",
        "plt.xlabel('K')\r\n",
        "#plt.ylabel('RMSE ')\r\n",
        "plt.title(\"Les valeurs du RMSE et MAE pour la mesure de cosine(item)\")\r\n",
        "plt.legend()\r\n",
        "plt.savefig(\"cosine_item_bar.png\", dpi=150, bbox_inches='tight')\r\n",
        "plt.show()"
      ],
      "execution_count": null,
      "outputs": []
    }
  ]
}